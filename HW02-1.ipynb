{
  "cells": [
    {
      "cell_type": "markdown",
      "metadata": {
        "colab_type": "text",
        "id": "view-in-github"
      },
      "source": [
        "<a href=\"https://colab.research.google.com/github/ga642381/ML2021-Spring/blob/main/HW02/HW02-1.ipynb\" target=\"_parent\"><img src=\"https://colab.research.google.com/assets/colab-badge.svg\" alt=\"Open In Colab\"/></a>"
      ]
    },
    {
      "cell_type": "markdown",
      "metadata": {
        "id": "OYlaRwNu7ojq"
      },
      "source": [
        "# **Homework 2-1 Phoneme Classification**\n",
        "\n",
        "* Slides: https://speech.ee.ntu.edu.tw/~hylee/ml/ml2021-course-data/hw/HW02/HW02.pdf\n",
        "* Video (Chinese): https://youtu.be/PdjXnQbu2zo\n",
        "* Video (English): https://youtu.be/ESRr-VCykBs\n"
      ]
    },
    {
      "cell_type": "markdown",
      "metadata": {
        "id": "emUd7uS7crTz"
      },
      "source": [
        "## The DARPA TIMIT Acoustic-Phonetic Continuous Speech Corpus (TIMIT)\n",
        "The TIMIT corpus of reading speech has been designed to provide speech data for the acquisition of acoustic-phonetic knowledge and for the development and evaluation of automatic speech recognition systems.\n",
        "\n",
        "This homework is a multiclass classification task, \n",
        "we are going to train a deep neural network classifier to predict the phonemes for each frame from the speech corpus TIMIT.\n",
        "\n",
        "link: https://academictorrents.com/details/34e2b78745138186976cbc27939b1b34d18bd5b3"
      ]
    },
    {
      "cell_type": "markdown",
      "metadata": {
        "id": "KVUGfWTo7_Oj"
      },
      "source": [
        "## Download Data\n",
        "Download data from google drive, then unzip it.\n",
        "\n",
        "You should have `timit_11/train_11.npy`, `timit_11/train_label_11.npy`, and `timit_11/test_11.npy` after running this block.<br><br>\n",
        "`timit_11/`\n",
        "- `train_11.npy`: training data<br>\n",
        "- `train_label_11.npy`: training label<br>\n",
        "- `test_11.npy`:  testing data<br><br>\n",
        "\n",
        "**notes: if the google drive link is dead, you can download the data directly from Kaggle and upload it to the workspace**\n",
        "\n",
        "\n"
      ]
    },
    {
      "cell_type": "markdown",
      "metadata": {
        "id": "_L_4anls8Drv"
      },
      "source": [
        "## Preparing Data\n",
        "Load the training and testing data from the `.npy` file (NumPy array)."
      ]
    },
    {
      "cell_type": "code",
      "execution_count": 131,
      "metadata": {
        "colab": {
          "base_uri": "https://localhost:8080/"
        },
        "id": "IJjLT8em-y9G",
        "outputId": "8edc6bfe-7511-447f-f239-00b96dba6dcf"
      },
      "outputs": [
        {
          "name": "stdout",
          "output_type": "stream",
          "text": [
            "Loading data ...\n",
            "Size of training data: (1229932, 429)\n",
            "Size of testing data: (451552, 429)\n"
          ]
        }
      ],
      "source": [
        "import numpy as np\n",
        "\n",
        "print('Loading data ...')\n",
        "\n",
        "data_root='./ml2021spring-hw2/'\n",
        "train = np.load(data_root + 'train_11.npy')\n",
        "train_label = np.load(data_root + 'train_label_11.npy')\n",
        "test = np.load(data_root + 'test_11.npy')\n",
        "\n",
        "print('Size of training data: {}'.format(train.shape))\n",
        "print('Size of testing data: {}'.format(test.shape))"
      ]
    },
    {
      "cell_type": "markdown",
      "metadata": {
        "id": "us5XW_x6udZQ"
      },
      "source": [
        "## Create Dataset"
      ]
    },
    {
      "cell_type": "code",
      "execution_count": 132,
      "metadata": {
        "id": "Fjf5EcmJtf4e"
      },
      "outputs": [],
      "source": [
        "import torch\n",
        "from torch.utils.data import Dataset\n",
        "\n",
        "class TIMITDataset(Dataset):\n",
        "    def __init__(self, X, y=None, tr_mean=None, tr_std=None):\n",
        "        self.data = torch.from_numpy(X).float()\n",
        "        # if tr_mean is not None and tr_std is not None:\n",
        "\n",
        "        #     self.mean = self.data.mean(dim = 0,keepdim=True)\n",
        "        #     self.std = self.data.std(dim = 0,keepdim=True)\n",
        "            \n",
        "        #     self.data = (self.data - self.mean) / self.std\n",
        "        # else:\n",
        "            \n",
        "        #     self.mean = self.data.mean(dim = 0,keepdim=True)\n",
        "        #     self.std = self.data.std(dim = 0,keepdim=True)\n",
        "\n",
        "        #     self.data = (self.data - self.mean) / self.std\n",
        "        if y is not None:\n",
        "            y = y.astype(np.int)\n",
        "            self.label = torch.LongTensor(y)\n",
        "        else:\n",
        "            self.label = None\n",
        "\n",
        "    def __getitem__(self, idx):\n",
        "        if self.label is not None:\n",
        "            return self.data[idx], self.label[idx]\n",
        "        else:\n",
        "            return self.data[idx]\n",
        "\n",
        "    def __len__(self):\n",
        "        return len(self.data)\n",
        "    \n",
        "    def normalize(self):\n",
        "        return self.mean, self.std\n",
        "    "
      ]
    },
    {
      "cell_type": "markdown",
      "metadata": {
        "id": "otIC6WhGeh9v"
      },
      "source": [
        "Split the labeled data into a training set and a validation set, you can modify the variable `VAL_RATIO` to change the ratio of validation data."
      ]
    },
    {
      "cell_type": "code",
      "execution_count": 133,
      "metadata": {
        "colab": {
          "base_uri": "https://localhost:8080/"
        },
        "id": "sYqi_lAuvC59",
        "outputId": "13dabe63-4849-47ee-fe04-57427b9d601c"
      },
      "outputs": [
        {
          "name": "stdout",
          "output_type": "stream",
          "text": [
            "Size of training set: (1024953, 429)\n",
            "Size of validation set: (204979, 429)\n"
          ]
        }
      ],
      "source": [
        "import random\n",
        "\n",
        "VAL_RATIO = 0.2\n",
        "percent = int(train.shape[0] * (1 - VAL_RATIO))\n",
        "\n",
        "val_of_dataset = []\n",
        "tr_of_dataset = []\n",
        "for i in range(len(train)):\n",
        "    x = random.randint(1, 6)\n",
        "    if x % 5 == 0:\n",
        "        val_of_dataset.append(i)\n",
        "    else:\n",
        "        tr_of_dataset.append(i)\n",
        "# train[:,195:234] = train[:,195:234]*5\n",
        "train_x, train_y, val_x, val_y = train[tr_of_dataset,:], train_label[tr_of_dataset], train[val_of_dataset,:], train_label[val_of_dataset]\n",
        "print('Size of training set: {}'.format(train_x.shape))\n",
        "print('Size of validation set: {}'.format(val_x.shape))"
      ]
    },
    {
      "cell_type": "markdown",
      "metadata": {
        "id": "nbCfclUIgMTX"
      },
      "source": [
        "Create a data loader from the dataset, feel free to tweak the variable `BATCH_SIZE` here."
      ]
    },
    {
      "cell_type": "code",
      "execution_count": 134,
      "metadata": {
        "id": "RUCbQvqJurYc"
      },
      "outputs": [
        {
          "name": "stderr",
          "output_type": "stream",
          "text": [
            "C:\\Users\\78739\\AppData\\Local\\Temp\\ipykernel_22764\\3353645887.py:20: DeprecationWarning: `np.int` is a deprecated alias for the builtin `int`. To silence this warning, use `int` by itself. Doing this will not modify any behavior and is safe. When replacing `np.int`, you may wish to use e.g. `np.int64` or `np.int32` to specify the precision. If you wish to review your current use, check the release note link for additional information.\n",
            "Deprecated in NumPy 1.20; for more details and guidance: https://numpy.org/devdocs/release/1.20.0-notes.html#deprecations\n",
            "  y = y.astype(np.int)\n"
          ]
        }
      ],
      "source": [
        "BATCH_SIZE = 640\n",
        "\n",
        "from torch.utils.data import DataLoader\n",
        "tr_mean = None\n",
        "tr_std = None\n",
        "train_set = TIMITDataset(train_x, train_y,None,None)\n",
        "# tr_mean,tr_std = train_set.normalize()\n",
        "val_set = TIMITDataset(val_x, val_y,tr_mean,tr_std)\n",
        "train_loader = DataLoader(train_set, batch_size=BATCH_SIZE, shuffle=True) #only shuffle the training data\n",
        "val_loader = DataLoader(val_set, batch_size=BATCH_SIZE, shuffle=False)"
      ]
    },
    {
      "cell_type": "markdown",
      "metadata": {
        "id": "_SY7X0lUgb50"
      },
      "source": [
        "Cleanup the unneeded variables to save memory.<br>\n",
        "\n",
        "**notes: if you need to use these variables later, then you may remove this block or clean up unneeded variables later<br>the data size is quite huge, so be aware of memory usage in colab**"
      ]
    },
    {
      "cell_type": "code",
      "execution_count": 135,
      "metadata": {
        "colab": {
          "base_uri": "https://localhost:8080/"
        },
        "id": "y8rzkGraeYeN",
        "outputId": "dc790996-a43c-4a99-90d4-e7928892a899"
      },
      "outputs": [
        {
          "data": {
            "text/plain": [
              "41"
            ]
          },
          "execution_count": 135,
          "metadata": {},
          "output_type": "execute_result"
        }
      ],
      "source": [
        "import gc\n",
        "\n",
        "del train, train_label, train_x, train_y, val_x, val_y\n",
        "gc.collect()"
      ]
    },
    {
      "cell_type": "markdown",
      "metadata": {
        "id": "IRqKNvNZwe3V"
      },
      "source": [
        "## Create Model"
      ]
    },
    {
      "cell_type": "markdown",
      "metadata": {
        "id": "FYr1ng5fh9pA"
      },
      "source": [
        "Define model architecture, you are encouraged to change and experiment with the model architecture."
      ]
    },
    {
      "cell_type": "code",
      "execution_count": 136,
      "metadata": {
        "id": "lbZrwT6Ny0XL"
      },
      "outputs": [],
      "source": [
        "import torch\n",
        "import torch.nn as nn\n",
        "\n",
        "class Classifier(nn.Module):\n",
        "    def __init__(self,inDim=195):\n",
        "        super(Classifier, self).__init__()\n",
        "\n",
        "        self.layer1 = nn.Linear(inDim, 2048)\n",
        "        self.layer2 = nn.Linear(2048, 2048)\n",
        "        self.layer3 = nn.Linear(2048, 1024)\n",
        "        self.layer4 = nn.Linear(1024, 512)\n",
        "        self.layer5 = nn.Linear(512, 128)\n",
        "        self.out = nn.Linear(128, 39) \n",
        "\n",
        "        self.bn1 = nn.BatchNorm1d(2048)\n",
        "        self.bn2 = nn.BatchNorm1d(2048)\n",
        "        self.bn3 = nn.BatchNorm1d(1024)\n",
        "        self.bn4 = nn.BatchNorm1d(512)\n",
        "        self.bn5 = nn.BatchNorm1d(128)\n",
        "        self.bn6 = nn.BatchNorm1d(64)\n",
        "\n",
        "        self.drop1 = nn.Dropout(0.3)\n",
        "        # self.drop2 = nn.Dropout(0.3)\n",
        "\n",
        "        self.act_re = nn.ReLU()\n",
        "        self.act_sig = nn.Sigmoid()\n",
        "\n",
        "    def forward(self, x):\n",
        "        \n",
        "        x = self.layer1(x)\n",
        "        x = self.bn1(x)\n",
        "        x = self.act_re(x)\n",
        "        x = self.drop1(x)\n",
        "\n",
        "        x = self.layer2(x)\n",
        "        x = self.bn2(x)\n",
        "        x = self.act_re(x)\n",
        "        x = self.drop1(x)\n",
        "\n",
        "        x = self.layer3(x)\n",
        "        x = self.bn3(x)\n",
        "        x = self.act_re(x)\n",
        "        x = self.drop1(x)\n",
        "\n",
        "        x = self.layer4(x)\n",
        "        x = self.bn4(x)\n",
        "        x = self.act_re(x)\n",
        "        x = self.drop1(x)\n",
        "\n",
        "        x = self.layer5(x)\n",
        "        x = self.bn5(x)\n",
        "        x = self.act_re(x)\n",
        "        x = self.drop1(x)\n",
        "\n",
        "        # x = self.layer6(x)\n",
        "        # x = self.bn6(x)\n",
        "        # x = self.act_re(x)\n",
        "        # x = self.drop1(x)\n",
        "\n",
        "\n",
        "\n",
        "        x = self.out(x)\n",
        "\n",
        "        return x\n",
        "\n",
        "    def reg_l2(self):\n",
        "        l2 = 0\n",
        "        for param in self.parameters():\n",
        "            l2 += l2_lambda*torch.sum(param**2)\n",
        "        return l2"
      ]
    },
    {
      "cell_type": "markdown",
      "metadata": {
        "id": "VRYciXZvPbYh"
      },
      "source": [
        "## Training"
      ]
    },
    {
      "cell_type": "code",
      "execution_count": 137,
      "metadata": {
        "id": "y114Vmm3Ja6o"
      },
      "outputs": [],
      "source": [
        "#check device\n",
        "def get_device():\n",
        "  return 'cuda' if torch.cuda.is_available() else 'cpu'"
      ]
    },
    {
      "cell_type": "markdown",
      "metadata": {
        "id": "sEX-yjHjhGuH"
      },
      "source": [
        "Fix random seeds for reproducibility."
      ]
    },
    {
      "cell_type": "code",
      "execution_count": 138,
      "metadata": {
        "id": "88xPiUnm0tAd"
      },
      "outputs": [],
      "source": [
        "# fix random seed\n",
        "def same_seeds(seed):\n",
        "    torch.manual_seed(seed)\n",
        "    if torch.cuda.is_available():\n",
        "        torch.cuda.manual_seed(seed)\n",
        "        torch.cuda.manual_seed_all(seed)  \n",
        "    np.random.seed(seed)  \n",
        "    torch.backends.cudnn.benchmark = False\n",
        "    torch.backends.cudnn.deterministic = True"
      ]
    },
    {
      "cell_type": "markdown",
      "metadata": {
        "id": "KbBcBXkSp6RA"
      },
      "source": [
        "Feel free to change the training parameters here."
      ]
    },
    {
      "cell_type": "code",
      "execution_count": 139,
      "metadata": {
        "id": "QTp3ZXg1yO9Y"
      },
      "outputs": [
        {
          "name": "stdout",
          "output_type": "stream",
          "text": [
            "DEVICE: cuda\n"
          ]
        }
      ],
      "source": [
        "# fix random seed for reproducibility\n",
        "same_seeds(0)\n",
        "\n",
        "# get device \n",
        "device = get_device()\n",
        "print(f'DEVICE: {device}')\n",
        "\n",
        "# training parameters\n",
        "num_epoch = 30               # number of training epoch\n",
        "learning_rate = 0.00007       # learning rate\n",
        "l2_lambda = 0            # weight decay\n",
        "inDim = 429       # input dimension\n",
        "# the path where checkpoint saved\n",
        "model_path = './model.ckpt'\n",
        "\n",
        "# create model, define a loss function, and optimizer, \n",
        "model = Classifier(inDim).to(device)\n",
        "criterion = nn.CrossEntropyLoss() \n",
        "optimizer = torch.optim.Adam(model.parameters(), lr=learning_rate)\n"
      ]
    },
    {
      "cell_type": "code",
      "execution_count": 140,
      "metadata": {
        "colab": {
          "base_uri": "https://localhost:8080/"
        },
        "id": "CdMWsBs7zzNs",
        "outputId": "c5ed561e-610d-4a35-d936-fd97adf342a0"
      },
      "outputs": [
        {
          "name": "stdout",
          "output_type": "stream",
          "text": [
            "[001/030] Train Acc: 0.511411 Loss: 1.825125 | Val Acc: 0.637451 loss: 1.211447\n",
            "saving model with acc 0.637\n",
            "[002/030] Train Acc: 0.620335 Loss: 1.283984 | Val Acc: 0.681948 loss: 1.027773\n",
            "saving model with acc 0.682\n",
            "[003/030] Train Acc: 0.649134 Loss: 1.161926 | Val Acc: 0.699755 loss: 0.955044\n",
            "saving model with acc 0.700\n",
            "[004/030] Train Acc: 0.665560 Loss: 1.096022 | Val Acc: 0.712492 loss: 0.908464\n",
            "saving model with acc 0.712\n",
            "[005/030] Train Acc: 0.676942 Loss: 1.050737 | Val Acc: 0.720835 loss: 0.877178\n",
            "saving model with acc 0.721\n",
            "[006/030] Train Acc: 0.685778 Loss: 1.015521 | Val Acc: 0.727518 loss: 0.849604\n",
            "saving model with acc 0.728\n",
            "[007/030] Train Acc: 0.693546 Loss: 0.985608 | Val Acc: 0.734300 loss: 0.823385\n",
            "saving model with acc 0.734\n",
            "[008/030] Train Acc: 0.700180 Loss: 0.959872 | Val Acc: 0.738363 loss: 0.806450\n",
            "saving model with acc 0.738\n",
            "[009/030] Train Acc: 0.706445 Loss: 0.936390 | Val Acc: 0.744130 loss: 0.787929\n",
            "saving model with acc 0.744\n",
            "[010/030] Train Acc: 0.711688 Loss: 0.915711 | Val Acc: 0.748203 loss: 0.772620\n",
            "saving model with acc 0.748\n",
            "[011/030] Train Acc: 0.716404 Loss: 0.897109 | Val Acc: 0.751667 loss: 0.759034\n",
            "saving model with acc 0.752\n",
            "[012/030] Train Acc: 0.720977 Loss: 0.881459 | Val Acc: 0.755160 loss: 0.745492\n",
            "saving model with acc 0.755\n",
            "[013/030] Train Acc: 0.725271 Loss: 0.866059 | Val Acc: 0.757312 loss: 0.737710\n",
            "saving model with acc 0.757\n",
            "[014/030] Train Acc: 0.728621 Loss: 0.851269 | Val Acc: 0.761712 loss: 0.722338\n",
            "saving model with acc 0.762\n",
            "[015/030] Train Acc: 0.732981 Loss: 0.836715 | Val Acc: 0.764488 loss: 0.713679\n",
            "saving model with acc 0.764\n",
            "[016/030] Train Acc: 0.736452 Loss: 0.823251 | Val Acc: 0.766098 loss: 0.705159\n",
            "saving model with acc 0.766\n",
            "[017/030] Train Acc: 0.739775 Loss: 0.811128 | Val Acc: 0.769542 loss: 0.694257\n",
            "saving model with acc 0.770\n",
            "[018/030] Train Acc: 0.742616 Loss: 0.799619 | Val Acc: 0.772191 loss: 0.684624\n",
            "saving model with acc 0.772\n",
            "[019/030] Train Acc: 0.746481 Loss: 0.787833 | Val Acc: 0.774177 loss: 0.678759\n",
            "saving model with acc 0.774\n",
            "[020/030] Train Acc: 0.749864 Loss: 0.776322 | Val Acc: 0.776465 loss: 0.669424\n",
            "saving model with acc 0.776\n",
            "[021/030] Train Acc: 0.751858 Loss: 0.766967 | Val Acc: 0.778963 loss: 0.661804\n",
            "saving model with acc 0.779\n",
            "[022/030] Train Acc: 0.754533 Loss: 0.756217 | Val Acc: 0.780943 loss: 0.655389\n",
            "saving model with acc 0.781\n",
            "[023/030] Train Acc: 0.757279 Loss: 0.747534 | Val Acc: 0.783885 loss: 0.646813\n",
            "saving model with acc 0.784\n",
            "[024/030] Train Acc: 0.760080 Loss: 0.737079 | Val Acc: 0.786120 loss: 0.639776\n",
            "saving model with acc 0.786\n",
            "[025/030] Train Acc: 0.763105 Loss: 0.727781 | Val Acc: 0.787959 loss: 0.633334\n",
            "saving model with acc 0.788\n",
            "[026/030] Train Acc: 0.765306 Loss: 0.719353 | Val Acc: 0.788964 loss: 0.626884\n",
            "saving model with acc 0.789\n",
            "[027/030] Train Acc: 0.767630 Loss: 0.711330 | Val Acc: 0.791262 loss: 0.619784\n",
            "saving model with acc 0.791\n",
            "[028/030] Train Acc: 0.769918 Loss: 0.702485 | Val Acc: 0.792676 loss: 0.614939\n",
            "saving model with acc 0.793\n",
            "[029/030] Train Acc: 0.772376 Loss: 0.695171 | Val Acc: 0.795335 loss: 0.608550\n",
            "saving model with acc 0.795\n",
            "[030/030] Train Acc: 0.774653 Loss: 0.686348 | Val Acc: 0.795979 loss: 0.605566\n",
            "saving model with acc 0.796\n"
          ]
        }
      ],
      "source": [
        "# start training\n",
        "\n",
        "best_acc = 0.0\n",
        "\n",
        "for epoch in range(num_epoch):\n",
        "    \n",
        "    train_acc = 0.0\n",
        "    train_loss = 0.0\n",
        "    val_acc = 0.0\n",
        "    val_loss = 0.0\n",
        "\n",
        "    # training\n",
        "    model.train() # set the model to training mode\n",
        "    for i, data in enumerate(train_loader):\n",
        "        inputs, labels = data\n",
        "        inputs, labels = inputs.to(device), labels.to(device)\n",
        "        outputs = model(inputs) \n",
        "        batch_loss = criterion(outputs, labels)+model.reg_l2()\n",
        "        _, train_pred = torch.max(outputs, 1) # get the index of the class with the highest probability\n",
        "        optimizer.zero_grad() \n",
        "        batch_loss.backward() \n",
        "        optimizer.step() \n",
        "\n",
        "        train_acc += (train_pred.cpu() == labels.cpu()).sum().item()\n",
        "        train_loss += batch_loss.item()\n",
        "\n",
        "    # validation\n",
        "    if len(val_set) > 0:\n",
        "        model.eval() # set the model to evaluation mode\n",
        "        with torch.no_grad():\n",
        "            for i, data in enumerate(val_loader):\n",
        "                inputs, labels = data\n",
        "                inputs, labels = inputs.to(device), labels.to(device)\n",
        "                outputs = model(inputs)\n",
        "                batch_loss = criterion(outputs, labels)+model.reg_l2()\n",
        "                _, val_pred = torch.max(outputs, 1) \n",
        "            \n",
        "                val_acc += (val_pred.cpu() == labels.cpu()).sum().item() # get the index of the class with the highest probability\n",
        "                val_loss += batch_loss.item()\n",
        "\n",
        "            print('[{:03d}/{:03d}] Train Acc: {:3.6f} Loss: {:3.6f} | Val Acc: {:3.6f} loss: {:3.6f}'.format(\n",
        "                epoch + 1, num_epoch, train_acc/len(train_set), train_loss/len(train_loader), val_acc/len(val_set), val_loss/len(val_loader)\n",
        "            ))\n",
        "\n",
        "            # if the model improves, save a checkpoint at this epoch\n",
        "            if val_acc > best_acc:\n",
        "                best_acc = val_acc\n",
        "                torch.save(model.state_dict(), model_path)\n",
        "                print('saving model with acc {:.3f}'.format(best_acc/len(val_set)))\n",
        "    else:\n",
        "        print('[{:03d}/{:03d}] Train Acc: {:3.6f} Loss: {:3.6f}'.format(\n",
        "            epoch + 1, num_epoch, train_acc/len(train_set), train_loss/len(train_loader)\n",
        "        ))\n",
        "\n",
        "# if not validating, save the last epoch\n",
        "if len(val_set) == 0:\n",
        "    torch.save(model.state_dict(), model_path)\n",
        "    print('saving model at last epoch')\n"
      ]
    },
    {
      "cell_type": "markdown",
      "metadata": {
        "id": "1Hi7jTn3PX-m"
      },
      "source": [
        "## Testing"
      ]
    },
    {
      "cell_type": "markdown",
      "metadata": {
        "id": "NfUECMFCn5VG"
      },
      "source": [
        "Create a testing dataset, and load model from the saved checkpoint."
      ]
    },
    {
      "cell_type": "markdown",
      "metadata": {},
      "source": []
    },
    {
      "cell_type": "code",
      "execution_count": 141,
      "metadata": {
        "colab": {
          "base_uri": "https://localhost:8080/"
        },
        "id": "1PKjtAScPWtr",
        "outputId": "8c17272b-536a-4692-a95f-a3292766c698"
      },
      "outputs": [
        {
          "data": {
            "text/plain": [
              "<All keys matched successfully>"
            ]
          },
          "execution_count": 141,
          "metadata": {},
          "output_type": "execute_result"
        }
      ],
      "source": [
        "# create testing dataset\n",
        "\n",
        "test_set = TIMITDataset(test, None,tr_mean, tr_std)\n",
        "test_loader = DataLoader(test_set, batch_size=BATCH_SIZE, shuffle=False)\n",
        "\n",
        "# create model and load weights from checkpoint\n",
        "model = Classifier(inDim).to(device)\n",
        "model.load_state_dict(torch.load(model_path))"
      ]
    },
    {
      "cell_type": "markdown",
      "metadata": {
        "id": "940TtCCdoYd0"
      },
      "source": [
        "Make prediction."
      ]
    },
    {
      "cell_type": "code",
      "execution_count": 142,
      "metadata": {
        "id": "84HU5GGjPqR0"
      },
      "outputs": [],
      "source": [
        "predict = []\n",
        "model.eval() # set the model to evaluation mode\n",
        "with torch.no_grad():\n",
        "    for i, data in enumerate(test_loader):\n",
        "        inputs = data\n",
        "        inputs = inputs.to(device)\n",
        "        outputs = model(inputs)\n",
        "        _, test_pred = torch.max(outputs, 1) # get the index of the class with the highest probability\n",
        "\n",
        "        for y in test_pred.cpu().numpy():\n",
        "            predict.append(y)"
      ]
    },
    {
      "cell_type": "markdown",
      "metadata": {
        "id": "AWDf_C-omElb"
      },
      "source": [
        "Write prediction to a CSV file.\n",
        "\n",
        "After finish running this block, download the file `prediction.csv` from the files section on the left-hand side and submit it to Kaggle."
      ]
    },
    {
      "cell_type": "code",
      "execution_count": 143,
      "metadata": {
        "id": "GuljYSPHcZir"
      },
      "outputs": [],
      "source": [
        "with open('prediction.csv', 'w') as f:\n",
        "    f.write('Id,Class\\n')\n",
        "    for i, y in enumerate(predict):\n",
        "        f.write('{},{}\\n'.format(i, y))"
      ]
    }
  ],
  "metadata": {
    "accelerator": "GPU",
    "colab": {
      "collapsed_sections": [],
      "include_colab_link": true,
      "name": "SHARE MLSpring2021 - HW2-1.ipynb",
      "provenance": []
    },
    "kernelspec": {
      "display_name": "Python 3",
      "name": "python3"
    },
    "language_info": {
      "codemirror_mode": {
        "name": "ipython",
        "version": 3
      },
      "file_extension": ".py",
      "mimetype": "text/x-python",
      "name": "python",
      "nbconvert_exporter": "python",
      "pygments_lexer": "ipython3",
      "version": "3.9.13"
    }
  },
  "nbformat": 4,
  "nbformat_minor": 0
}
